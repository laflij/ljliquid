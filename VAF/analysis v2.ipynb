{
 "metadata": {
  "name": ""
 },
 "nbformat": 3,
 "nbformat_minor": 0,
 "worksheets": [
  {
   "cells": [
    {
     "cell_type": "code",
     "collapsed": false,
     "input": [
      "import numpy\n",
      "import scipy\n",
      "import matplotlib\n",
      "import pandas\n",
      "\n",
      "from matplotlib import pyplot as plt\n",
      "%matplotlib inline"
     ],
     "language": "python",
     "metadata": {},
     "outputs": [],
     "prompt_number": 22
    },
    {
     "cell_type": "code",
     "collapsed": false,
     "input": [
      "N_Atoms = 512\n",
      "every_out = 1\n",
      "Total_Steps = 250000\n",
      "chunk = 500\n",
      "N_Steps = Total_Steps/every_out + 1"
     ],
     "language": "python",
     "metadata": {},
     "outputs": [],
     "prompt_number": 23
    },
    {
     "cell_type": "code",
     "collapsed": false,
     "input": [
      "def ReadVelcityDump(filename, n_atoms, n_steps):\n",
      "    \"\"\"\n",
      "    This file extracts the three velocity components vx vy vz \n",
      "    from the lammps dump file \n",
      "    Inputs: \n",
      "        filename = file name (string)\n",
      "        n_atoms = number of atoms (int)\n",
      "        n_steps  = number of time steps (int)\n",
      "    Outputs:\n",
      "        data  = [n_atoms * n_steps, 3]\n",
      "    \"\"\"\n",
      "    # Load velocities from the file\n",
      "    data  = numpy.zeros([n_atoms, n_steps, 3])\n",
      "    t_step = numpy.zeros(n_steps)\n",
      "    with open(filename,'r') as vel_dump:\n",
      "        i = -1\n",
      "        for line in vel_dump:\n",
      "            # If the first character is 'I':\n",
      "            if line[0][0] == 'I':\n",
      "                # reset atom counter\n",
      "                atom = 0\n",
      "                i = i + 1\n",
      "                if i == 500:\n",
      "                    break\n",
      "                # skip to next line and record time step\n",
      "                line = next(vel_dump)\n",
      "                t_step[i] = int(line)\n",
      "                # skip remaining comments \n",
      "                for k in range(8):  \n",
      "                    line = next(vel_dump)\n",
      "            # Split the row into columns and assign as a float \n",
      "            # to the row of data\n",
      "            data[atom][i,:] =  \\\n",
      "                [float(col) for col in line.strip().split()]\n",
      "            atom = atom + 1\n",
      "    return(t_step, data) "
     ],
     "language": "python",
     "metadata": {},
     "outputs": [],
     "prompt_number": 24
    },
    {
     "cell_type": "code",
     "collapsed": false,
     "input": [
      "def TempCheck(vel_data, t_step):\n",
      "    k = 1.0\n",
      "    m = 1.0\n",
      "    v_total = numpy.zeros_like(t_step)\n",
      "    for t in range(t_step.size):\n",
      "        for atom in vel_data:\n",
      "            v_total[t] = v_total[t] + numpy.linalg.norm(atom[t,:])\n",
      "    T = 1/3*k*numpy.square(v_total)\n",
      "    return T"
     ],
     "language": "python",
     "metadata": {},
     "outputs": [],
     "prompt_number": 25
    },
    {
     "cell_type": "code",
     "collapsed": false,
     "input": [
      "# Define the Autocorrelation Function\n",
      "def my_acorr(data):\n",
      "    n = numpy.size(data)\n",
      "    C = numpy.zeros(n)\n",
      "    for i in range(n):\n",
      "        for j in range(n - i):\n",
      "            C[i] = C[i] + data[i + j] * data[j]\n",
      "        C[i] = C[i] / (n - i)\n",
      "        C[i] = C[i] / C[0]\n",
      "    return C"
     ],
     "language": "python",
     "metadata": {},
     "outputs": [],
     "prompt_number": 26
    },
    {
     "cell_type": "code",
     "collapsed": false,
     "input": [
      "# Need autocorrelation to go faster\n",
      "import pyximport\n",
      "pyximport.install();\n",
      "import my_acorr as myAC"
     ],
     "language": "python",
     "metadata": {},
     "outputs": [],
     "prompt_number": 27
    },
    {
     "cell_type": "code",
     "collapsed": false,
     "input": [
      "# Read Files\n",
      "t_step_nvt, vel_data_nvt = ReadVelcityDump('vel_nvt.txt', N_Atoms, N_Steps)\n",
      "t_step_nvt = t_step_nvt[0:chunk]\n",
      "vel_data_nvt = vel_data_nvt[:,0:chunk]\n",
      "\n",
      "t_step_npt, vel_data_npt = ReadVelcityDump('vel_npt.txt', N_Atoms, N_Steps)\n",
      "t_step_npt = t_step_npt[0:chunk]\n",
      "vel_data_npt = vel_data_npt[:,0:chunk]"
     ],
     "language": "python",
     "metadata": {},
     "outputs": [],
     "prompt_number": 28
    },
    {
     "cell_type": "code",
     "collapsed": false,
     "input": [
      "# Get autocorreleation of Velocity and time using old function\n",
      "C_nvt_vx = my_acorr(vel_data_nvt[0][:,0])"
     ],
     "language": "python",
     "metadata": {},
     "outputs": [],
     "prompt_number": 29
    },
    {
     "cell_type": "code",
     "collapsed": false,
     "input": [
      "# Get autocorreleation of Velocity and time it using old function\n",
      "C_npt_vx = myAC.my_acorr(vel_data_npt[0][:,0])"
     ],
     "language": "python",
     "metadata": {},
     "outputs": [],
     "prompt_number": 30
    },
    {
     "cell_type": "code",
     "collapsed": false,
     "input": [
      "# Plot results\n",
      "plt.rc('text', usetex=True)\n",
      "plt.rc('font', family='serif')\n",
      "\n",
      "fig = plt.figure(1, figsize=(5,4))\n",
      "plt.plot(t_step_nvt[0:20]*2e-3, C_nvt_vx[0:20], 'b-', ms=1, lw=1, alpha=0.7, label=r\"nvt\")\n",
      "plt.plot(t_step_npt[0:20]*2e-3, C_npt_vx[0:20], 'g-', ms=1, lw=1, alpha=0.7, label=r\"npt\")\n",
      "plt.title(r\"Atom `1'\")\n",
      "plt.xlabel(r\"Timegvim $(ps)$\")\n",
      "plt.ylabel(r\"$C_{vx}(t)$\")\n",
      "plt.ticklabel_format(style='sci', axis='y', scilimits=(0,0))\n",
      "\n",
      "plt.ylim(-.005, .005)\n",
      "plt.legend(fontsize=10)\n",
      "\n",
      "plt.grid(b=True, color='grey', linestyle='--')\n",
      "plt.savefig('autocorr_nvt_npt.pdf', format='pdf')"
     ],
     "language": "python",
     "metadata": {},
     "outputs": [
      {
       "metadata": {},
       "output_type": "display_data",
       "png": "[encoded data removed]",
       "text": [
        "<matplotlib.figure.Figure at 0x7fea280913d0>"
       ]
      }
     ],
     "prompt_number": 35
    },
    {
     "cell_type": "code",
     "collapsed": false,
     "input": [
      "# Compute Temperature from Velocity\n",
      "T_nvt = TempCheck(vel_data_nvt, t_step_nvt)\n",
      "T_npt = TempCheck(vel_data_npt, t_step_npt)"
     ],
     "language": "python",
     "metadata": {},
     "outputs": [],
     "prompt_number": 15
    },
    {
     "cell_type": "code",
     "collapsed": true,
     "input": [
      "# Plot results\n",
      "plt.rc('text', usetex=True)\n",
      "plt.rc('font', family='serif')\n",
      "\n",
      "fig = plt.figure(1, figsize=(11,8.5))\n",
      "plt.plot(t_step_nvt*2e-6, T_nvt, 'b-', ms=1, lw=1, alpha=0.7, label=r\"nvt\")\n",
      "# plt.plot(t_step_npt*2e-6, T_npt, 'g-', ms=1, lw=1, alpha=0.7, label=r\"npt\")\n",
      "plt.title(r\"Temperature under NVT and NPT\")\n",
      "plt.xlabel(r\"Time $(ns)$\")\n",
      "plt.ylabel(r\"$T$\")\n",
      "# plt.ticklabel_format(style='sci', axis='y', scilimits=(0,0))\n",
      "\n",
      "# plt.ylim(0, 2)\n",
      "plt.legend(fontsize=10)\n",
      "\n",
      "plt.grid(b=True, color='grey', linestyle='--')\n",
      "# plt.savefig('~/Dropbox/ \\\n",
      "#     MolecularSimulations/figures/temp_nvt_npt.pdf', format='pdf')"
     ],
     "language": "python",
     "metadata": {},
     "outputs": [
      {
       "metadata": {},
       "output_type": "display_data",
       "png": "[encoded data removed]",
       "text": [
        "<matplotlib.figure.Figure at 0x7fea28056210>"
       ]
      }
     ],
     "prompt_number": 17
    },
    {
     "cell_type": "code",
     "collapsed": false,
     "input": [
      "numpy.shape(vel_data_nvt)"
     ],
     "language": "python",
     "metadata": {},
     "outputs": [
      {
       "metadata": {},
       "output_type": "pyout",
       "prompt_number": 21,
       "text": [
        "(512, 100, 3)"
       ]
      }
     ],
     "prompt_number": 21
    },
    {
     "cell_type": "code",
     "collapsed": false,
     "input": [
      "np.save(outfile, x)"
     ],
     "language": "python",
     "metadata": {},
     "outputs": []
    }
   ],
   "metadata": {}
  }
 ]
}