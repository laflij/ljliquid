{
 "metadata": {
  "name": ""
 },
 "nbformat": 3,
 "nbformat_minor": 0,
 "worksheets": [
  {
   "cells": [
    {
     "cell_type": "code",
     "collapsed": false,
     "input": [
      "import numpy\n",
      "import scipy\n",
      "import matplotlib\n",
      "from matplotlib import pyplot as plt\n",
      "import pandas\n",
      "%matplotlib inline"
     ],
     "language": "python",
     "metadata": {},
     "outputs": [],
     "prompt_number": 1
    },
    {
     "cell_type": "code",
     "collapsed": false,
     "input": [
      "N_Atoms = 512\n",
      "every_out = 1\n",
      "Total_Steps = 250000\n",
      "N_Steps = Total_Steps/every_out + 1"
     ],
     "language": "python",
     "metadata": {},
     "outputs": [],
     "prompt_number": 2
    },
    {
     "cell_type": "code",
     "collapsed": false,
     "input": [
      "def ReadVelcityDump(filename, n_atoms, n_steps):\n",
      "    \"\"\"\n",
      "    This file extracts the three velocity components vx vy vz \n",
      "    from the lammps dump file \n",
      "    Inputs: \n",
      "        filename = file name (string)\n",
      "        n_atoms = number of atoms (int)\n",
      "        n_steps  = number of time steps (int)\n",
      "    Outputs:\n",
      "        data  = [n_atoms * n_steps, 3]\n",
      "    \"\"\"\n",
      "    # Load velocities from the file\n",
      "    data  = numpy.empty([n_atoms, n_steps, 3])\n",
      "    t_step = numpy.empty(n_steps)\n",
      "    with open(filename,'r') as vel_dump:\n",
      "        i = -1\n",
      "        for line in vel_dump:\n",
      "            # If the first character is 'I':\n",
      "            if line[0][0] == 'I':\n",
      "                # reset atom counter\n",
      "                atom = 0\n",
      "                i = i + 1\n",
      "                # skip to next line and record time step\n",
      "                line = next(vel_dump)\n",
      "                t_step[i] = int(line)\n",
      "                # skip remaining comments \n",
      "                for k in range(8):  \n",
      "                    line = next(vel_dump)\n",
      "            # Split the row into columns and assign as a float \n",
      "            # to the row of data\n",
      "            data[atom][i,:] =  \\\n",
      "                [float(col) for col in line.strip().split()]\n",
      "            atom = atom + 1\n",
      "    return(t_step, data) "
     ],
     "language": "python",
     "metadata": {},
     "outputs": [],
     "prompt_number": 3
    },
    {
     "cell_type": "code",
     "collapsed": false,
     "input": [
      "# Define the Autocorrelation Function\n",
      "# def autocorr(x):\n",
      "#     result = numpy.correlate(x, x, mode='full')\n",
      "#     return result[result.size/2:]\n",
      "# My Autocorrelation Function\n",
      "def my_acorr(data):\n",
      "    n = numpy.size(data)\n",
      "    C = numpy.zeros(n)\n",
      "    for i in range(n):\n",
      "        for j in range(n - i):\n",
      "            C[i] = C[i] + data[i + j] * data[j]\n",
      "#             print('data[i+j] =' + repr(data[i+j]))\n",
      "#             print('data[j] = ' + repr(data[j]) + '\\n')\n",
      "        C[i] = C[i] / (n - i)\n",
      "#         print(n-i)\n",
      "        C[i] = C[i] / C[0]\n",
      "    return C"
     ],
     "language": "python",
     "metadata": {},
     "outputs": [],
     "prompt_number": 4
    },
    {
     "cell_type": "code",
     "collapsed": false,
     "input": [
      "def TempCheck(vel_data, t_step):\n",
      "    k = 1.0\n",
      "    m = 1.0\n",
      "    v_total = numpy.zeros_like(t_step)\n",
      "    for t in range(t_step.size):\n",
      "        for atom in vel_data:\n",
      "            v_total[t] = v_total[t] + numpy.linalg.norm(atom[t,:])\n",
      "    T = 1/3*k*numpy.square(v_total)\n",
      "    return T"
     ],
     "language": "python",
     "metadata": {},
     "outputs": [],
     "prompt_number": 5
    },
    {
     "cell_type": "code",
     "collapsed": false,
     "input": [
      "# Read Files\n",
      "t_step_nvt, vel_data_nvt = \\\n",
      "    ReadVelcityDump('vel_nvt.txt', N_Atoms, N_Steps)\n",
      "t_step_npt, vel_data_npt = \\\n",
      "    ReadVelcityDump('vel_npt.txt', N_Atoms, N_Steps)"
     ],
     "language": "python",
     "metadata": {},
     "outputs": [],
     "prompt_number": 6
    },
    {
     "cell_type": "code",
     "collapsed": false,
     "input": [
      "# Get autocorreleation of Velocity\n",
      "C_nvt_vx = my_acorr(vel_data_nvt[0][0:100,0])\n",
      "C_npt_vx = my_acorr(vel_data_npt[0][0:100,0])\n"
     ],
     "language": "python",
     "metadata": {},
     "outputs": [],
     "prompt_number": 9
    },
    {
     "cell_type": "code",
     "collapsed": false,
     "input": [
      "# Plot results\n",
      "plt.rc('text', usetex=True)\n",
      "plt.rc('font', family='serif')\n",
      "\n",
      "fig = plt.figure(1, figsize=(5,4))\n",
      "plt.plot(t_step_nvt[0:100]*2e-3, C_nvt_vx, 'b-', ms=1, lw=1, alpha=0.7, label=r\"nvt\")\n",
      "plt.plot(t_step_npt[0:100]*2e-3, C_npt_vx, 'g-', ms=1, lw=1, alpha=0.7, label=r\"npt\")\n",
      "plt.title(r\"Atom `1'\")\n",
      "plt.xlabel(r\"Time $(ps)$\")\n",
      "plt.ylabel(r\"$C_{vx}(t)$\")\n",
      "plt.ticklabel_format(style='sci', axis='y', scilimits=(0,0))\n",
      "\n",
      "plt.ylim(-.005, .005)\n",
      "plt.legend(fontsize=10)\n",
      "\n",
      "plt.grid(b=True, color='grey', linestyle='--')\n",
      "plt.savefig('autocorr_ljfluid_nvt_npt.pdf', format='pdf')"
     ],
     "language": "python",
     "metadata": {},
     "outputs": [
      {
       "metadata": {},
       "output_type": "display_data",
       "png": "[encoded data removed]",
       "text": [
        "<matplotlib.figure.Figure at 0x7ffc08a2cb50>"
       ]
      }
     ],
     "prompt_number": 18
    },
    {
     "cell_type": "code",
     "collapsed": false,
     "input": [
      "# Compute Temperature from Velocity\n",
      "T_nvt = TempCheck(vel_data_nvt, t_step_nvt)\n",
      "T_npt = TempCheck(vel_data_npt, t_step_npt)"
     ],
     "language": "python",
     "metadata": {},
     "outputs": [
      {
       "ename": "KeyboardInterrupt",
       "evalue": "",
       "output_type": "pyerr",
       "traceback": [
        "\u001b[1;31m---------------------------------------------------------------------------\u001b[0m\n\u001b[1;31mKeyboardInterrupt\u001b[0m                         Traceback (most recent call last)",
        "\u001b[1;32m<ipython-input-15-fc5c850d2946>\u001b[0m in \u001b[0;36m<module>\u001b[1;34m()\u001b[0m\n\u001b[0;32m      1\u001b[0m \u001b[1;31m# Compute Temperature from Velocity\u001b[0m\u001b[1;33m\u001b[0m\u001b[1;33m\u001b[0m\u001b[0m\n\u001b[1;32m----> 2\u001b[1;33m \u001b[0mT_nvt\u001b[0m \u001b[1;33m=\u001b[0m \u001b[0mTempCheck\u001b[0m\u001b[1;33m(\u001b[0m\u001b[0mvel_data_nvt\u001b[0m\u001b[1;33m,\u001b[0m \u001b[0mt_step_nvt\u001b[0m\u001b[1;33m)\u001b[0m\u001b[1;33m\u001b[0m\u001b[0m\n\u001b[0m\u001b[0;32m      3\u001b[0m \u001b[0mT_npt\u001b[0m \u001b[1;33m=\u001b[0m \u001b[0mTempCheck\u001b[0m\u001b[1;33m(\u001b[0m\u001b[0mvel_data_npt\u001b[0m\u001b[1;33m,\u001b[0m \u001b[0mt_step_npt\u001b[0m\u001b[1;33m)\u001b[0m\u001b[1;33m\u001b[0m\u001b[0m\n",
        "\u001b[1;32m<ipython-input-5-b3b33fd8b78d>\u001b[0m in \u001b[0;36mTempCheck\u001b[1;34m(vel_data, t_step)\u001b[0m\n\u001b[0;32m      5\u001b[0m     \u001b[1;32mfor\u001b[0m \u001b[0mt\u001b[0m \u001b[1;32min\u001b[0m \u001b[0mrange\u001b[0m\u001b[1;33m(\u001b[0m\u001b[0mt_step\u001b[0m\u001b[1;33m.\u001b[0m\u001b[0msize\u001b[0m\u001b[1;33m)\u001b[0m\u001b[1;33m:\u001b[0m\u001b[1;33m\u001b[0m\u001b[0m\n\u001b[0;32m      6\u001b[0m         \u001b[1;32mfor\u001b[0m \u001b[0matom\u001b[0m \u001b[1;32min\u001b[0m \u001b[0mvel_data\u001b[0m\u001b[1;33m:\u001b[0m\u001b[1;33m\u001b[0m\u001b[0m\n\u001b[1;32m----> 7\u001b[1;33m             \u001b[0mv_total\u001b[0m\u001b[1;33m[\u001b[0m\u001b[0mt\u001b[0m\u001b[1;33m]\u001b[0m \u001b[1;33m=\u001b[0m \u001b[0mv_total\u001b[0m\u001b[1;33m[\u001b[0m\u001b[0mt\u001b[0m\u001b[1;33m]\u001b[0m \u001b[1;33m+\u001b[0m \u001b[0mnumpy\u001b[0m\u001b[1;33m.\u001b[0m\u001b[0mlinalg\u001b[0m\u001b[1;33m.\u001b[0m\u001b[0mnorm\u001b[0m\u001b[1;33m(\u001b[0m\u001b[0matom\u001b[0m\u001b[1;33m[\u001b[0m\u001b[0mt\u001b[0m\u001b[1;33m,\u001b[0m\u001b[1;33m:\u001b[0m\u001b[1;33m]\u001b[0m\u001b[1;33m)\u001b[0m\u001b[1;33m\u001b[0m\u001b[0m\n\u001b[0m\u001b[0;32m      8\u001b[0m     \u001b[0mT\u001b[0m \u001b[1;33m=\u001b[0m \u001b[1;36m1\u001b[0m\u001b[1;33m/\u001b[0m\u001b[1;36m3\u001b[0m\u001b[1;33m*\u001b[0m\u001b[0mk\u001b[0m\u001b[1;33m*\u001b[0m\u001b[0mnumpy\u001b[0m\u001b[1;33m.\u001b[0m\u001b[0msquare\u001b[0m\u001b[1;33m(\u001b[0m\u001b[0mv_total\u001b[0m\u001b[1;33m)\u001b[0m\u001b[1;33m\u001b[0m\u001b[0m\n\u001b[0;32m      9\u001b[0m     \u001b[1;32mreturn\u001b[0m \u001b[0mT\u001b[0m\u001b[1;33m\u001b[0m\u001b[0m\n",
        "\u001b[1;32m/home/laflij/Software/anaconda/envs/conda33/lib/python3.3/site-packages/numpy/linalg/linalg.py\u001b[0m in \u001b[0;36mnorm\u001b[1;34m(x, ord)\u001b[0m\n\u001b[0;32m   1971\u001b[0m     \u001b[0mx\u001b[0m \u001b[1;33m=\u001b[0m \u001b[0masarray\u001b[0m\u001b[1;33m(\u001b[0m\u001b[0mx\u001b[0m\u001b[1;33m)\u001b[0m\u001b[1;33m\u001b[0m\u001b[0m\n\u001b[0;32m   1972\u001b[0m     \u001b[1;32mif\u001b[0m \u001b[0mord\u001b[0m \u001b[1;32mis\u001b[0m \u001b[1;32mNone\u001b[0m\u001b[1;33m:\u001b[0m \u001b[1;31m# check the default case first and handle it immediately\u001b[0m\u001b[1;33m\u001b[0m\u001b[0m\n\u001b[1;32m-> 1973\u001b[1;33m         \u001b[1;32mreturn\u001b[0m \u001b[0msqrt\u001b[0m\u001b[1;33m(\u001b[0m\u001b[0madd\u001b[0m\u001b[1;33m.\u001b[0m\u001b[0mreduce\u001b[0m\u001b[1;33m(\u001b[0m\u001b[1;33m(\u001b[0m\u001b[0mx\u001b[0m\u001b[1;33m.\u001b[0m\u001b[0mconj\u001b[0m\u001b[1;33m(\u001b[0m\u001b[1;33m)\u001b[0m \u001b[1;33m*\u001b[0m \u001b[0mx\u001b[0m\u001b[1;33m)\u001b[0m\u001b[1;33m.\u001b[0m\u001b[0mravel\u001b[0m\u001b[1;33m(\u001b[0m\u001b[1;33m)\u001b[0m\u001b[1;33m.\u001b[0m\u001b[0mreal\u001b[0m\u001b[1;33m)\u001b[0m\u001b[1;33m)\u001b[0m\u001b[1;33m\u001b[0m\u001b[0m\n\u001b[0m\u001b[0;32m   1974\u001b[0m \u001b[1;33m\u001b[0m\u001b[0m\n\u001b[0;32m   1975\u001b[0m     \u001b[0mnd\u001b[0m \u001b[1;33m=\u001b[0m \u001b[0mx\u001b[0m\u001b[1;33m.\u001b[0m\u001b[0mndim\u001b[0m\u001b[1;33m\u001b[0m\u001b[0m\n",
        "\u001b[1;31mKeyboardInterrupt\u001b[0m: "
       ]
      }
     ]
    },
    {
     "cell_type": "code",
     "collapsed": true,
     "input": [
      "# Plot results\n",
      "plt.rc('text', usetex=True)\n",
      "plt.rc('font', family='serif')\n",
      "\n",
      "fig = plt.figure(1, figsize=(11,8.5))\n",
      "plt.plot(t_step_nvt*2e-6, T_nvt, 'b-', ms=1, lw=1, alpha=0.7, label=r\"nvt\")\n",
      "# plt.plot(t_step_npt*2e-6, T_npt, 'g-', ms=1, lw=1, alpha=0.7, label=r\"npt\")\n",
      "plt.title(r\"Temperature under NVT and NPT\")\n",
      "plt.xlabel(r\"Time $(ns)$\")\n",
      "plt.ylabel(r\"$T$\")\n",
      "# plt.ticklabel_format(style='sci', axis='y', scilimits=(0,0))\n",
      "\n",
      "plt.ylim(0, 2)\n",
      "plt.legend(fontsize=10)\n",
      "\n",
      "plt.grid(b=True, color='grey', linestyle='--')\n",
      "# plt.savefig('~/Dropbox/ \\\n",
      "#     MolecularSimulations/figures/temp_nvt_npt.pdf', format='pdf')"
     ],
     "language": "python",
     "metadata": {},
     "outputs": []
    },
    {
     "cell_type": "code",
     "collapsed": false,
     "input": [
      "numpy.shape(vel_data_nvt)"
     ],
     "language": "python",
     "metadata": {},
     "outputs": []
    },
    {
     "cell_type": "code",
     "collapsed": false,
     "input": [
      "np.save(outfile, x)"
     ],
     "language": "python",
     "metadata": {},
     "outputs": []
    }
   ],
   "metadata": {}
  }
 ]
}